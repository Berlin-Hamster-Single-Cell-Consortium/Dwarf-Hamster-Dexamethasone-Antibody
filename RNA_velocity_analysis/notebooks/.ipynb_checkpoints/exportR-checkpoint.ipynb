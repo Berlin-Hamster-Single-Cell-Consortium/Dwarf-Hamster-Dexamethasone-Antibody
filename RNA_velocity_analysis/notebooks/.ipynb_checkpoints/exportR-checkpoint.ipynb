{
 "cells": [
  {
   "cell_type": "code",
   "execution_count": null,
   "metadata": {
    "ExecuteTime": {
     "start_time": "2021-12-07T12:46:26.937Z"
    }
   },
   "outputs": [
    {
     "name": "stderr",
     "output_type": "stream",
     "text": [
      "Warning message:\n",
      "“package ‘Seurat’ was built under R version 4.1.1”\n"
     ]
    }
   ],
   "source": [
    "library(Seurat)"
   ]
  },
  {
   "cell_type": "code",
   "execution_count": null,
   "metadata": {
    "ExecuteTime": {
     "start_time": "2021-12-07T12:46:27.134Z"
    }
   },
   "outputs": [],
   "source": [
    "seurat_data <- readRDS(file = \"../data/Cov19Hamster/PhoRob_DexAb/DexAb.neu.rds\")"
   ]
  },
  {
   "cell_type": "code",
   "execution_count": null,
   "metadata": {
    "ExecuteTime": {
     "start_time": "2021-12-07T12:46:33.933Z"
    }
   },
   "outputs": [],
   "source": [
    "pca <- Embeddings(seurat_data, reduction = \"pca\")\n",
    "umap <- Embeddings(seurat_data, reduction = \"umap\")\n",
    "metadata <- seurat_data[[]]"
   ]
  },
  {
   "cell_type": "code",
   "execution_count": null,
   "metadata": {
    "ExecuteTime": {
     "start_time": "2021-12-07T12:47:07.094Z"
    }
   },
   "outputs": [],
   "source": [
    "write.csv(pca, \"../metadata/seurat_pca_new.csv\")\n",
    "write.csv(umap, \"../metadata/seurat_umap_new.csv\")\n",
    "write.csv(metadata, \"../metadata/seurat_metadata_new.csv\")"
   ]
  },
  {
   "cell_type": "code",
   "execution_count": null,
   "metadata": {},
   "outputs": [],
   "source": []
  },
  {
   "cell_type": "code",
   "execution_count": null,
   "metadata": {},
   "outputs": [],
   "source": []
  },
  {
   "cell_type": "code",
   "execution_count": null,
   "metadata": {},
   "outputs": [],
   "source": []
  },
  {
   "cell_type": "code",
   "execution_count": null,
   "metadata": {},
   "outputs": [],
   "source": []
  },
  {
   "cell_type": "code",
   "execution_count": null,
   "metadata": {},
   "outputs": [],
   "source": []
  }
 ],
 "metadata": {
  "hide_input": false,
  "kernelspec": {
   "display_name": "R",
   "language": "R",
   "name": "ir"
  },
  "language_info": {
   "codemirror_mode": "r",
   "file_extension": ".r",
   "mimetype": "text/x-r-source",
   "name": "R",
   "pygments_lexer": "r",
   "version": "4.1.0"
  }
 },
 "nbformat": 4,
 "nbformat_minor": 4
}
